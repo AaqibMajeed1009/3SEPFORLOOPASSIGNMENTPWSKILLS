{
 "cells": [
  {
   "cell_type": "markdown",
   "id": "d5491a9c",
   "metadata": {},
   "source": [
    "FOR LOOP\n",
    "ASSIGNMENT QUESTION(DATED:-03/09/2023)"
   ]
  },
  {
   "cell_type": "code",
   "execution_count": 95,
   "id": "b5183ce5",
   "metadata": {},
   "outputs": [
    {
     "name": "stdout",
     "output_type": "stream",
     "text": [
      "1\n",
      "2\n",
      "3\n",
      "4\n",
      "5\n",
      "6\n",
      "7\n",
      "8\n",
      "9\n",
      "10\n"
     ]
    }
   ],
   "source": [
    "\"\"\"QUESTION NO 1\"\"\"\n",
    "\"\"\"Write a Python program to print the numbers from 1 to 10 using a `for` loop.\"\"\"\n",
    "for i in range(1,11):\n",
    "    print(i)"
   ]
  },
  {
   "cell_type": "code",
   "execution_count": 96,
   "id": "a0482b2f",
   "metadata": {},
   "outputs": [
    {
     "name": "stdout",
     "output_type": "stream",
     "text": [
      "The sum of numbers is: 45\n"
     ]
    }
   ],
   "source": [
    "\"\"\"QUESTION NO 2\"\"\"\n",
    "\"\"\"Create a program that calculates the sum of all numbers in a list using a `for` loop.\"\"\"\n",
    "\n",
    "#define list of numbers that you want to addition\n",
    "numbers = [1,2,3,4,5,6,7,8,9]\n",
    "\n",
    "#initialize a variable to store the addition of numbers\n",
    "add_numbers = 0\n",
    "\n",
    "#iterate through the list of numbers\n",
    "for number in numbers:\n",
    "    \n",
    "    #Add the current number to the addition\n",
    "    add_numbers += number\n",
    "\n",
    "#print the addition of numbers\n",
    "print(\"The sum of numbers is:\" ,add_numbers)"
   ]
  },
  {
   "cell_type": "code",
   "execution_count": 97,
   "id": "d539474e",
   "metadata": {},
   "outputs": [
    {
     "name": "stdout",
     "output_type": "stream",
     "text": [
      "Enter the string:MY NAME IS AAQIB MAJEED BHAT\n",
      "Original string: MY NAME IS AAQIB MAJEED BHAT\n",
      "Reversed string: TAHB DEEJAM BIQAA SI EMAN YM\n"
     ]
    }
   ],
   "source": [
    "\"\"\"QUESTION NO 3\"\"\"\n",
    "\"\"\"Write a program to print the characters of a string in reverse order using a `for` loop.\"\"\"\n",
    "\n",
    "# Input string\n",
    "input_string = input(\"Enter the string:\")\n",
    "print(\"Original string:\", input_string)\n",
    "\n",
    "# Initialize an empty string to store the reversed string\n",
    "reversed_string = \"\"\n",
    "\n",
    "# Iterate through the characters of the input string in reverse order\n",
    "for char in reversed(input_string):\n",
    "    reversed_string += char\n",
    "\n",
    "# Print the reversed string\n",
    "print(\"Reversed string:\", reversed_string)"
   ]
  },
  {
   "cell_type": "code",
   "execution_count": 99,
   "id": "c16aeca9",
   "metadata": {},
   "outputs": [
    {
     "name": "stdout",
     "output_type": "stream",
     "text": [
      "Enter a number: 10\n",
      "The factorial of 10 is 3628800\n"
     ]
    }
   ],
   "source": [
    "\"\"\"QUESTION NO 4\"\"\"\n",
    "\"\"\"Develop a program that finds the factorial of a given number using a `for` loop.\"\"\"\n",
    "\n",
    "# Input( Enter the number for which you want to find the factorial)\n",
    "num = int(input(\"Enter a number: \"))\n",
    "\n",
    "# Initialize a variable to store the factorial, initially set to 1\n",
    "fact = 1\n",
    "\n",
    "# Use a for loop to calculate the factorial\n",
    "for i in range(1, num + 1):\n",
    "    #print(i)\n",
    "    fact *= i\n",
    "\n",
    "# Print the factorial\n",
    "print(f\"The factorial of {num} is {fact}\")"
   ]
  },
  {
   "cell_type": "code",
   "execution_count": 100,
   "id": "cef99c13",
   "metadata": {},
   "outputs": [
    {
     "name": "stdout",
     "output_type": "stream",
     "text": [
      "Enter a number: 11\n",
      "11 x 1 = 11\n",
      "11 x 2 = 22\n",
      "11 x 3 = 33\n",
      "11 x 4 = 44\n",
      "11 x 5 = 55\n",
      "11 x 6 = 66\n",
      "11 x 7 = 77\n",
      "11 x 8 = 88\n",
      "11 x 9 = 99\n",
      "11 x 10 = 110\n"
     ]
    }
   ],
   "source": [
    "\"\"\"QUESTION NO 5\"\"\"\n",
    "\"\"\"Create a program to print the multiplication table of a given number using a `for` loop.\"\"\"\n",
    "\n",
    "num = int(input(\"Enter a number: \"))\n",
    "\n",
    "for i in range(1 ,11):\n",
    "    product = num * i\n",
    "    \n",
    "    print(f\"{num} x {i} = {product}\")"
   ]
  },
  {
   "cell_type": "code",
   "execution_count": 101,
   "id": "116b3e1c",
   "metadata": {},
   "outputs": [
    {
     "name": "stdout",
     "output_type": "stream",
     "text": [
      "Number of even numbers: 5\n",
      "Number of odd numbers: 7\n"
     ]
    }
   ],
   "source": [
    "\"\"\"QUESTION NO 6\"\"\"\n",
    "\"\"\"Write a program that counts the number of even and odd numbers in a list using a `for` loop.\"\"\"\n",
    "\n",
    "listl1 = [1,2,3,5,7,4,8,9,10,23,13,14]\n",
    "even_num = 0\n",
    "odd_num = 0\n",
    "\n",
    "for number in listl1:\n",
    "    if number % 2 == 0:\n",
    "        # If the number is even, increment the even count\n",
    "        even_num += 1\n",
    "    else:\n",
    "        # If the number is odd, increment the odd count\n",
    "        odd_num += 1\n",
    "\n",
    "# Print the counts\n",
    "print(\"Number of even numbers:\", even_num)\n",
    "print(\"Number of odd numbers:\", odd_num)"
   ]
  },
  {
   "cell_type": "code",
   "execution_count": 102,
   "id": "0aac800c",
   "metadata": {},
   "outputs": [
    {
     "name": "stdout",
     "output_type": "stream",
     "text": [
      "The square of 1 is 1\n",
      "The square of 2 is 4\n",
      "The square of 3 is 9\n",
      "The square of 4 is 16\n",
      "The square of 5 is 25\n"
     ]
    }
   ],
   "source": [
    "\"\"\"QUESTION NO 7\"\"\"\n",
    "\"\"\"Develop a program that prints the squares of numbers from 1 to 5 using a `for` loop.\"\"\"\n",
    "\n",
    "# Use a for loop to iterate through numbers from 1 to 5\n",
    "for num in range(1, 6):\n",
    "    # Calculate the square of the current number\n",
    "    square = num * num\n",
    "    # Print the square uses fstring\n",
    "    print(f\"The square of {num} is {square}\")"
   ]
  },
  {
   "cell_type": "code",
   "execution_count": 103,
   "id": "7b5078fa",
   "metadata": {},
   "outputs": [
    {
     "name": "stdout",
     "output_type": "stream",
     "text": [
      "Length of the string: 28\n"
     ]
    }
   ],
   "source": [
    "\"\"\"QUESTION NO 8\"\"\"\n",
    "\"\"\"Create a program to find the length of a string without using the `len()` function.\"\"\"\n",
    "\n",
    "# Input string\n",
    "input_string = \"my name is aaqib majeed bhat\"\n",
    "\n",
    "# Initialize a variable to count the characters\n",
    "count = 0\n",
    "\n",
    "# Iterate through the string and count each character\n",
    "for char in input_string:\n",
    "    count += 1\n",
    "\n",
    "# Print the length of the string\n",
    "print(\"Length of the string:\", count)"
   ]
  },
  {
   "cell_type": "code",
   "execution_count": 104,
   "id": "9e79c571",
   "metadata": {},
   "outputs": [
    {
     "name": "stdout",
     "output_type": "stream",
     "text": [
      "Enter a string:my name is aaqib majeed bhat\n",
      "Length of the string: 28\n"
     ]
    }
   ],
   "source": [
    "#take input from user\n",
    "# Input string\n",
    "input_string = input((\"Enter a string:\"))\n",
    "#input_string = \"my name is aaqib majeed bhat\"\n",
    "\n",
    "# Initialize a variable to count the characters\n",
    "count = 0\n",
    "\n",
    "# Iterate through the string and count each character\n",
    "for char in input_string:\n",
    "    count += 1\n",
    "\n",
    "# Print the length of the string\n",
    "print(\"Length of the string:\", count)\n"
   ]
  },
  {
   "cell_type": "code",
   "execution_count": 105,
   "id": "bdf16e27",
   "metadata": {},
   "outputs": [
    {
     "name": "stdout",
     "output_type": "stream",
     "text": [
      "Average: 4.2\n"
     ]
    }
   ],
   "source": [
    "\"\"\"QUESTION NO 9\"\"\"\n",
    "\"\"\"Write a program that calculates the average of a list of numbers using a `for` loop.\"\"\"\n",
    "# Define a list of numbers\n",
    "numbers = [3,7,3,9,1,9,4,3,2,1]\n",
    "\n",
    "# Initialize variables to store the sum and count of numbers\n",
    "total = 0\n",
    "count = 0\n",
    "\n",
    "# Use a for loop to iterate through the list\n",
    "for num in numbers:\n",
    "    #print(num)\n",
    "    # Add the current number to the total sum\n",
    "    total += num\n",
    "    # Increment the count of numbers\n",
    "    count += 1      \n",
    "\n",
    "# Calculate the average of numbers\n",
    "avg = total / count\n",
    "\n",
    "# Print the total average\n",
    "print(\"Average:\", avg)"
   ]
  },
  {
   "cell_type": "code",
   "execution_count": 106,
   "id": "b9311cae",
   "metadata": {},
   "outputs": [
    {
     "name": "stdout",
     "output_type": "stream",
     "text": [
      "Enter the number of Fibonacci numbers to generate: 9\n",
      "0 1 1 2 3 5 8 13 21 "
     ]
    }
   ],
   "source": [
    "\"\"\"QUESTION NO 10\"\"\"\n",
    "\"\"\"Develop a program that prints the first `n` Fibonacci numbers using a `for` loop.\"\"\"\n",
    "# Input: Enter the number of Fibonacci numbers to generate\n",
    "num = int(input(\"Enter the number of Fibonacci numbers to generate: \"))\n",
    "\n",
    "# Initialize the first two Fibonacci numbers\n",
    "a= 0\n",
    "b = 1\n",
    "\n",
    "# Print the first n Fibonacci numbers using a for loop\n",
    "for i in range(num):\n",
    "    # Print the current Fibonacci number\n",
    "    print(a, end=\" \") \n",
    "    # Update a and b for the next Fibonacci number\n",
    "    a, b = b, a + b"
   ]
  },
  {
   "cell_type": "markdown",
   "id": "e524adf5",
   "metadata": {},
   "source": [
    "INTERMEDIATE LEVEL QUESTIONS"
   ]
  },
  {
   "cell_type": "code",
   "execution_count": 116,
   "id": "9967b4ae",
   "metadata": {},
   "outputs": [
    {
     "name": "stdout",
     "output_type": "stream",
     "text": [
      "The list does not contain duplicates.\n"
     ]
    }
   ],
   "source": [
    "\"\"\"QUESTION NO 11\"\"\"\n",
    "\"\"\"Write a program to check if a given list contains any duplicates using a `for` loop.\"\"\"\n",
    "\n",
    "# Define a list with elements\n",
    "list1 = [1, 2, 3, 4, 5, 6, 7]\n",
    "\n",
    "# Initialize a flag variable to indicate whether duplicates are found\n",
    "has_duplicates = False\n",
    "\n",
    "# Use a for loop to iterate through the list\n",
    "for i in range(len(list1)):\n",
    "    for j in range(i + 1, len(list1)):\n",
    "        # Compare each pair of elements for equality\n",
    "        if list1[i] == list1[j]:\n",
    "            has_duplicates = True\n",
    "            # If a duplicate is found, exit the inner loop\n",
    "            break \n",
    "    if has_duplicates:\n",
    "        # If a duplicate is found, exit the outer loop\n",
    "        break\n",
    "\n",
    "# Check if duplicates were found and print the result\n",
    "if has_duplicates:\n",
    "    print(\"The list contains duplicates.\")\n",
    "else:\n",
    "    print(\"The list does not contain duplicates.\")"
   ]
  },
  {
   "cell_type": "code",
   "execution_count": 114,
   "id": "a3664204",
   "metadata": {},
   "outputs": [
    {
     "name": "stdout",
     "output_type": "stream",
     "text": [
      "The list contains duplicates.\n"
     ]
    }
   ],
   "source": [
    "# Define a list with elements\n",
    "list1 = [1, 2, 3, 3 ,7, 4, 5, 6, 7]\n",
    "\n",
    "# Initialize a flag variable to indicate whether duplicates are found\n",
    "has_duplicates = False\n",
    "\n",
    "# Use a for loop to iterate through the list\n",
    "for i in range(len(list1)):\n",
    "    for j in range(i + 1, len(list1)):\n",
    "        # Compare each pair of elements for equality\n",
    "        if list1[i] == list1[j]:\n",
    "            has_duplicates = True\n",
    "            # If a duplicate is found, exit the inner loop\n",
    "            break \n",
    "    if has_duplicates:\n",
    "        # If a duplicate is found, exit the outer loop\n",
    "        break  \n",
    "\n",
    "# Check if duplicates were found and print the result\n",
    "if has_duplicates:\n",
    "    print(\"The list contains duplicates.\")\n",
    "else:\n",
    "    print(\"The list does not contain duplicates.\")"
   ]
  },
  {
   "cell_type": "code",
   "execution_count": null,
   "id": "41f79045",
   "metadata": {},
   "outputs": [],
   "source": [
    "\"\"\"QUESTION NO 12\"\"\"\n"
   ]
  },
  {
   "cell_type": "code",
   "execution_count": 117,
   "id": "213f5e36",
   "metadata": {},
   "outputs": [
    {
     "name": "stdout",
     "output_type": "stream",
     "text": [
      "Enter the start of the range: 2\n",
      "Enter the end of the range: 50\n",
      "Prime numbers in the range from 2 to 50 are:\n",
      "2\n",
      "3\n",
      "5\n",
      "7\n",
      "11\n",
      "13\n",
      "17\n",
      "19\n",
      "23\n",
      "29\n",
      "31\n",
      "37\n",
      "41\n",
      "43\n",
      "47\n"
     ]
    }
   ],
   "source": [
    "\"\"\"QUESTION NO 12\"\"\"\n",
    "\"\"\"Create a program that prints the prime numbers in a given range using a `for` loop.\"\"\"\n",
    "#take user input\n",
    "# Enter the range (start and end) for which you want to find prime numbers\n",
    "start = int(input(\"Enter the start of the range: \"))\n",
    "end = int(input(\"Enter the end of the range: \"))\n",
    "\n",
    "# Use a for loop to iterate through the numbers in the given range\n",
    "print(\"Prime numbers in the range from\", start, \"to\", end, \"are:\")\n",
    "for num in range(start, end + 1):\n",
    "    if num > 1:\n",
    "        is_prime = True\n",
    "        for i in range(2, int(num**0.5) + 1):\n",
    "            if num % i == 0:\n",
    "                is_prime = False\n",
    "                break\n",
    "        if is_prime:\n",
    "            print(num)"
   ]
  },
  {
   "cell_type": "code",
   "execution_count": 121,
   "id": "5a4837e9",
   "metadata": {},
   "outputs": [
    {
     "name": "stdout",
     "output_type": "stream",
     "text": [
      "Prime numbers in the range from 2 to 50 are:\n",
      "2\n",
      "3\n",
      "5\n",
      "7\n",
      "11\n",
      "13\n",
      "17\n",
      "19\n",
      "23\n",
      "29\n",
      "31\n",
      "37\n",
      "41\n",
      "43\n",
      "47\n"
     ]
    }
   ],
   "source": [
    "\"\"\"QUESTION NO 12\"\"\"\n",
    "\"\"\"Create a program that prints the prime numbers in a given range using a `for` loop.\"\"\"\n",
    "\n",
    "# Enter the range (start and end) for which you want to find prime numbers\n",
    "#start = int(input(\"Enter the start of the range: \"))\n",
    "#end = int(input(\"Enter the end of the range: \"))\n",
    "#i already intilize the range\n",
    "start = 2\n",
    "end = 50\n",
    "\n",
    "# Use a for loop to iterate through the numbers in the given range\n",
    "print(\"Prime numbers in the range from\", start, \"to\", end, \"are:\")\n",
    "for num in range(start, end + 1):\n",
    "    if num > 1:\n",
    "        is_prime = True\n",
    "        for i in range(2, int(num**0.5) + 1):\n",
    "            if num % i == 0:\n",
    "                is_prime = False\n",
    "                break\n",
    "        if is_prime:\n",
    "            print(num)"
   ]
  },
  {
   "cell_type": "code",
   "execution_count": null,
   "id": "22e0da4d",
   "metadata": {},
   "outputs": [],
   "source": [
    "\"\"\"QUESTION NO 13\"\"\"\n",
    "\"\"\"Develop a program that counts the number of vowels in a string using a `for` loop.\"\"\""
   ]
  },
  {
   "cell_type": "code",
   "execution_count": 124,
   "id": "bec05dd1",
   "metadata": {},
   "outputs": [
    {
     "name": "stdout",
     "output_type": "stream",
     "text": [
      "Enter a string: my NAME is AAQIB mAJEED bhAT\n",
      "Number of vowels in the string: 10\n"
     ]
    }
   ],
   "source": [
    "# Input: Enter a string\n",
    "input_string = input(\"Enter a string: \")\n",
    "\n",
    "# Initialize a variable to store the count of vowels\n",
    "vowel_count = 0\n",
    "\n",
    "# Define a set of vowels\n",
    "#vowels = \"AEIOUaeiou\"\n",
    "\n",
    "# Use a for loop to iterate through each character in the string\n",
    "for char in input_string:\n",
    "    # Check if the current character is a vowel\n",
    "    if char in vowels:\n",
    "        vowel_count += 1\n",
    "\n",
    "# Print the count of vowels in the string\n",
    "print(\"Number of vowels in the string:\", vowel_count)"
   ]
  },
  {
   "cell_type": "code",
   "execution_count": 1,
   "id": "9326e509",
   "metadata": {},
   "outputs": [
    {
     "name": "stdout",
     "output_type": "stream",
     "text": [
      "Enter a string: AAqib majeed vhat\n",
      "Number of vowels in the string: 7\n"
     ]
    }
   ],
   "source": [
    "# Input: Enter a string\n",
    "input_string = input(\"Enter a string: \")\n",
    "\n",
    "# Initialize a variable to store the count of vowels\n",
    "vowel_count = 0\n",
    "\n",
    "# Convert the input string to lowercase to make it case-insensitive\n",
    "input_string = input_string.lower()\n",
    "\n",
    "# Define a set of vowels\n",
    "vowels = {'a', 'e', 'i', 'o', 'u'}\n",
    "\n",
    "# Use a for loop to iterate through each character in the string\n",
    "for char in input_string:\n",
    "    # Check if the current character is a vowel\n",
    "    if char in vowels:\n",
    "        vowel_count += 1\n",
    "\n",
    "# Print the count of vowels in the string\n",
    "print(\"Number of vowels in the string:\", vowel_count)\n",
    "\n"
   ]
  },
  {
   "cell_type": "code",
   "execution_count": 7,
   "id": "fda5cdfa",
   "metadata": {},
   "outputs": [
    {
     "name": "stdout",
     "output_type": "stream",
     "text": [
      "Maximum element in the 2D list is: 10\n"
     ]
    }
   ],
   "source": [
    "# Define a 2D list (matrix)\n",
    "matrix = [\n",
    "    [3, 5, 2],\n",
    "    [7, 1, 9],\n",
    "    [4, 6, 10],\n",
    "    [4, 6, 8]\n",
    "]\n",
    "\n",
    "# Initialize a variable to store the maximum element, initially set to negative infinity\n",
    "max_element = float('-inf')\n",
    "\n",
    "# Use nested for loops to iterate through the rows and columns of the matrix\n",
    "for row in matrix:\n",
    "    for element in row:\n",
    "        if element > max_element:\n",
    "            max_element = element\n",
    "\n",
    "# Print the maximum element\n",
    "print(\"Maximum element in the 2D list is:\", max_element)"
   ]
  },
  {
   "cell_type": "code",
   "execution_count": 4,
   "id": "03d15633",
   "metadata": {},
   "outputs": [
    {
     "name": "stdout",
     "output_type": "stream",
     "text": [
      "Maximum element in the 2D list is: 9\n"
     ]
    }
   ],
   "source": [
    "\"\"\"QUESTION NO 14\"\"\"\n",
    "\"\"\"Write a program to find the maximum element in a 2D list using a nested `for` loop.\"\"\"\n",
    "# Define a 2D list (matrix)\n",
    "matrix = [\n",
    "    [3, 5, 2],\n",
    "    [7, 1, 9],\n",
    "    [4, 6, 8]\n",
    "]\n",
    "\n",
    "# Initialize a variable to store the maximum element, initially set to the first element of the matrix\n",
    "max_element = matrix[0][0]\n",
    "\n",
    "# Use nested for loops to iterate through the rows and columns of the matrix\n",
    "for row in matrix:\n",
    "    for element in row:\n",
    "        if element > max_element:\n",
    "            max_element = element\n",
    "\n",
    "# Print the maximum element\n",
    "print(\"Maximum element in the 2D list is:\", max_element)"
   ]
  },
  {
   "cell_type": "code",
   "execution_count": 2,
   "id": "96661753",
   "metadata": {},
   "outputs": [
    {
     "name": "stdout",
     "output_type": "stream",
     "text": [
      "Enter the element to remove: 2\n",
      "Updated list after removing all occurrences of 2 : [1, 3, 4, 5, 4, 5, 6]\n"
     ]
    }
   ],
   "source": [
    "\"\"\"QUESTION NO 15\"\"\"\n",
    "\"\"\"Create a program that removes all occurrences of a specific element from a list using a `for` loop.\"\"\"\n",
    "# Input: Enter a list of elements\n",
    "list1 = [1, 2, 3, 2, 4, 5, 2,2,2,4,5,6,2]\n",
    "elmt_remove = int(input(\"Enter the element you want to remove: \"))\n",
    "\n",
    "# Create an empty list to store the updated elements\n",
    "newlist = []\n",
    "\n",
    "# Use a for loop to iterate through the elements of the original list\n",
    "for element in list1:\n",
    "    # Check if the current element is equal to the element to be removed\n",
    "    if element != elmt_remove:\n",
    "        newlist.append(element)\n",
    "\n",
    "# Print the updated list without the specified element\n",
    "print(\"Updated list after removing all occurrences of\", elmt_remove, \":\", newlist)"
   ]
  },
  {
   "cell_type": "code",
   "execution_count": 6,
   "id": "875e4db2",
   "metadata": {},
   "outputs": [
    {
     "name": "stdout",
     "output_type": "stream",
     "text": [
      "Multiplication table for 1:\n",
      "1 x 1 = 1\n",
      "1 x 2 = 2\n",
      "1 x 3 = 3\n",
      "1 x 4 = 4\n",
      "1 x 5 = 5\n",
      "1 x 6 = 6\n",
      "1 x 7 = 7\n",
      "1 x 8 = 8\n",
      "1 x 9 = 9\n",
      "1 x 10 = 10\n",
      "\n",
      "Multiplication table for 2:\n",
      "2 x 1 = 2\n",
      "2 x 2 = 4\n",
      "2 x 3 = 6\n",
      "2 x 4 = 8\n",
      "2 x 5 = 10\n",
      "2 x 6 = 12\n",
      "2 x 7 = 14\n",
      "2 x 8 = 16\n",
      "2 x 9 = 18\n",
      "2 x 10 = 20\n",
      "\n",
      "Multiplication table for 3:\n",
      "3 x 1 = 3\n",
      "3 x 2 = 6\n",
      "3 x 3 = 9\n",
      "3 x 4 = 12\n",
      "3 x 5 = 15\n",
      "3 x 6 = 18\n",
      "3 x 7 = 21\n",
      "3 x 8 = 24\n",
      "3 x 9 = 27\n",
      "3 x 10 = 30\n",
      "\n",
      "Multiplication table for 4:\n",
      "4 x 1 = 4\n",
      "4 x 2 = 8\n",
      "4 x 3 = 12\n",
      "4 x 4 = 16\n",
      "4 x 5 = 20\n",
      "4 x 6 = 24\n",
      "4 x 7 = 28\n",
      "4 x 8 = 32\n",
      "4 x 9 = 36\n",
      "4 x 10 = 40\n",
      "\n",
      "Multiplication table for 5:\n",
      "5 x 1 = 5\n",
      "5 x 2 = 10\n",
      "5 x 3 = 15\n",
      "5 x 4 = 20\n",
      "5 x 5 = 25\n",
      "5 x 6 = 30\n",
      "5 x 7 = 35\n",
      "5 x 8 = 40\n",
      "5 x 9 = 45\n",
      "5 x 10 = 50\n",
      "\n"
     ]
    }
   ],
   "source": [
    "\"\"\"QUESTION NO 16\"\"\"\n",
    "\"\"\"Develop a program that generates a multiplication table for numbers from 1 to 5 using a nested `for` loop.\"\"\"\n",
    "\n",
    "# Define the range for the multiplication table\n",
    "start_num = 1\n",
    "end_num = 5\n",
    "\n",
    "# Define the range for the multiplication values (e.g., up to 10)\n",
    "max_value = 10\n",
    "\n",
    "# Use nested for loops to generate the multiplication table\n",
    "for num1 in range(start_num, end_num + 1):\n",
    "    print(f\"Multiplication table for {num1}:\")\n",
    "    for num2 in range(1, max_value + 1):\n",
    "        result = num1 * num2\n",
    "        print(f\"{num1} x {num2} = {result}\")\n",
    "    # Add a blank line to separate tables\n",
    "    print()  "
   ]
  },
  {
   "cell_type": "code",
   "execution_count": 9,
   "id": "96ab85b1",
   "metadata": {},
   "outputs": [
    {
     "name": "stdout",
     "output_type": "stream",
     "text": [
      "32°F = 0.00°C\n",
      "68°F = 20.00°C\n",
      "86°F = 30.00°C\n",
      "104°F = 40.00°C\n",
      "50°F = 10.00°C\n",
      "70°F = 21.11°C\n",
      "201°F = 93.89°C\n"
     ]
    }
   ],
   "source": [
    "\"\"\"QUESTION NO 17\"\"\"\n",
    "\"\"\"Write a program that converts a list of Fahrenheit temperatures to Celsius using a `for` loop.\"\"\"\n",
    "\n",
    "#  Enter a list of Fahrenheit temperatures\n",
    "f_temp = [32, 68, 86, 104, 50, 70, 201]\n",
    "\n",
    "# Create an empty list to store the converted Celsius temperatures\n",
    "c_temp = []\n",
    "\n",
    "# Use a for loop to iterate through each Fahrenheit temperature in the list\n",
    "for f in f_temp:\n",
    "    # Convert Fahrenheit to Celsius using the formula: Celsius = (Fahrenheit - 32) * 5/9\n",
    "    celsius = (f - 32) * 5/9\n",
    "    # Append the converted Celsius temperature to the new list\n",
    "    c_temp.append(celsius)\n",
    "\n",
    "# Print the original Fahrenheit temperatures and their Celsius equivalents\n",
    "for i in range(len(f_temp)):\n",
    "    print(f\"{f_temp[i]}°F = {c_temp[i]:.2f}°C\")"
   ]
  },
  {
   "cell_type": "code",
   "execution_count": 13,
   "id": "5376e33b",
   "metadata": {},
   "outputs": [
    {
     "name": "stdout",
     "output_type": "stream",
     "text": [
      "Common elements in the two lists are: [1, 3, 4, 5, 9, 10, 6, 7]\n"
     ]
    }
   ],
   "source": [
    "\"\"\"QUESTION NO 18\"\"\"\n",
    "\"\"\"Create a program to print the common elements from two lists using a `for` loop.\"\"\"\n",
    "\n",
    "# Input: Enter two lists\n",
    "list_a = [1, 2, 3, 4, 5, 9, 10, 5, 6, 7]\n",
    "list_b = [3, 4, 5, 6, 7, 5, 9, 1, 10, 6]\n",
    "\n",
    "# Create an empty list to store common elements\n",
    "new_list = []\n",
    "\n",
    "# Use a for loop to iterate through elements in list A\n",
    "for elmt_a in list_a:\n",
    "    # Check if the current element from list A is also in list B\n",
    "    if elmt_a in list_b:\n",
    "        # If it's a common element and not already in common_elements, add it\n",
    "        if elmt_a not in new_list:\n",
    "            new_list.append(elmt_a)\n",
    "\n",
    "# Print the common elements\n",
    "print(\"Common elements in the two lists are:\", new_list)"
   ]
  },
  {
   "cell_type": "code",
   "execution_count": 44,
   "id": "9d341044",
   "metadata": {},
   "outputs": [
    {
     "name": "stdout",
     "output_type": "stream",
     "text": [
      "Enter the number of rows for the right triangles that you want to draw: 5\n",
      "*\n",
      "**\n",
      "***\n",
      "****\n",
      "*****\n"
     ]
    }
   ],
   "source": [
    "\"\"\"QUESTION NO 19\"\"\"\n",
    "\"\"\"Develop a program that prints the pattern of right-angled triangles using a `for` loop. Use ‘*’ to draw the\n",
    "pattern\"\"\"\n",
    "\n",
    "# Input: Enter the number of rows for the right-angled triangles\n",
    "n_rows = int(input(\"Enter the number of rows for the right triangles that you want to draw: \"))\n",
    "\n",
    "# Use a for loop to iterate through each row\n",
    "for i in range(1, n_rows + 1):\n",
    "    # Print '*' characters in each column for the current row\n",
    "    for j in range(1, i + 1):\n",
    "        print('*', end='')\n",
    "    # Move to the next line to start a new row\n",
    "    print()"
   ]
  },
  {
   "cell_type": "code",
   "execution_count": 6,
   "id": "d8365a45",
   "metadata": {},
   "outputs": [
    {
     "name": "stdout",
     "output_type": "stream",
     "text": [
      "Enter the first number: 6\n",
      "Enter the second number: 8\n",
      "The Greatest Common Divisor (GCD) of 6 and 8 is: 2\n"
     ]
    }
   ],
   "source": [
    "\"\"\"QUESTION NO 20\"\"\"\n",
    "\"\"\"Write a program to find the greatest common divisor (GCD) of two numbers using a `for` loop.\"\"\"\n",
    "#Enter two numbers\n",
    "num1 = int(input(\"Enter the first number: \"))\n",
    "num2 = int(input(\"Enter the second number: \"))\n",
    "\n",
    "# Determine the smaller of the two numbers\n",
    "smaller = min(num1, num2)\n",
    "\n",
    "# Initialize a variable to store the GCD\n",
    "gcd = 1\n",
    "\n",
    "# Use a for loop to iterate from 1 to the smaller number\n",
    "for i in range(1, smaller + 1):\n",
    "    # Check if both numbers are divisible by the current value of i\n",
    "    if num1 % i == 0 and num2 % i == 0:\n",
    "        gcd = i  # Update the GCD when both numbers are divisible by i\n",
    "\n",
    "# Print the GCD\n",
    "print(\"The Greatest Common Divisor (GCD) of\", num1, \"and\", num2, \"is:\", gcd)"
   ]
  },
  {
   "cell_type": "markdown",
   "id": "5a0d8724",
   "metadata": {},
   "source": [
    "ADVANCED LEVEL:"
   ]
  },
  {
   "cell_type": "code",
   "execution_count": 19,
   "id": "38b94680",
   "metadata": {},
   "outputs": [
    {
     "name": "stdout",
     "output_type": "stream",
     "text": [
      "Sum of digits for each number: [3, 6, 10, 18, 17, 10, 12]\n"
     ]
    }
   ],
   "source": [
    "\"\"\"QUESTION NO 21\"\"\"\n",
    "\"\"\"Create a program that calculates the sum of the digits of numbers in a list using a list comprehension.\"\"\"\n",
    "\n",
    "# Enter a list of numbers\n",
    "numbs = [12, 123, \"1234\", 567, 890, \"4321\", \"123123\"]\n",
    "\n",
    "# Use a list comprehension to calculate the sum of digits for each number\n",
    "sum_numbs = [sum(int(digit) for digit in str(number)) for number in numbs]\n",
    "\n",
    "# Print the list of sums\n",
    "print(\"Sum of digits for each number:\", sum_numbs)"
   ]
  },
  {
   "cell_type": "code",
   "execution_count": 33,
   "id": "2ffea208",
   "metadata": {},
   "outputs": [
    {
     "name": "stdout",
     "output_type": "stream",
     "text": [
      "Enter a number: 46\n",
      "Prime factors of the given number are: [2, 23]\n"
     ]
    }
   ],
   "source": [
    "\"\"\"QUESTION NO 22\"\"\"\n",
    "\"\"\"\"Write a program to find the prime factors of a given number using a `for` loop and list comprehension\"\"\"\n",
    "\n",
    "# Input: Enter the number for which you want to find prime factors\n",
    "num = int(input(\"Enter a number: \"))\n",
    "\n",
    "# Create an empty list to store prime factors\n",
    "prime_factors = []\n",
    "\n",
    "# Use a for loop to iterate from 2 to num (inclusive)\n",
    "for i in range(2, num + 1):\n",
    "    while num % i == 0:\n",
    "        prime_factors.append(i)\n",
    "        num //= i\n",
    "\n",
    "# Print the prime factors\n",
    "print(\"Prime factors of the given number are:\", prime_factors)"
   ]
  },
  {
   "cell_type": "code",
   "execution_count": 12,
   "id": "657ff6cb",
   "metadata": {},
   "outputs": [
    {
     "name": "stdout",
     "output_type": "stream",
     "text": [
      "Unique elements from the original list: [1, 3, 5, 7, 8]\n"
     ]
    }
   ],
   "source": [
    "\"\"\"QUESTION NO 23\"\"\"\n",
    "\"\"\"Develop a program that extracts unique elements from a list and stores them in a new list using a list\n",
    "comprehension.\"\"\"\n",
    "\n",
    "# Input: Enter a list containing elements with possible duplicates\n",
    "original_list = [1, 2, 2, 3, 4, 4, 5, 6, 6, 7, 8]\n",
    "\n",
    "# Use a list comprehension to create a new list with unique elements\n",
    "unique_list = [x for x in original_list if original_list.count(x) == 1]\n",
    "\n",
    "# Print the list of unique elements\n",
    "print(\"Unique elements from the original list:\", unique_list)\n",
    "\n",
    "\n"
   ]
  },
  {
   "cell_type": "code",
   "execution_count": 46,
   "id": "afceafab",
   "metadata": {},
   "outputs": [
    {
     "name": "stdout",
     "output_type": "stream",
     "text": [
      "Enter the limit: 100\n",
      "Palindromic numbers up to 100 are: [0, 1, 2, 3, 4, 5, 6, 7, 8, 9, 11, 22, 33, 44, 55, 66, 77, 88, 99]\n"
     ]
    }
   ],
   "source": [
    "\"\"\"QUESTION NO 24\"\"\"\n",
    "\"\"\"Create a program that generates a list of all palindromic numbers up to a specified limit using a list\n",
    "comprehension.\"\"\"\n",
    "\n",
    "# Function to check if a number is palindromic\n",
    "def is_palindrome(num):\n",
    "    # Convert the number to a string and check if it's equal to its reverse\n",
    "    return str(num) == str(num)[::-1]\n",
    "\n",
    "# Specify the limit\n",
    "limit = int(input(\"Enter the limit: \"))\n",
    "\n",
    "# Generate a list of palindromic numbers up to the specified limit using a list comprehension\n",
    "palindromic_numbers = [num for num in range(limit + 1) if is_palindrome(num)]\n",
    "\n",
    "# Print the list of palindromic numbers\n",
    "print(\"Palindromic numbers up to\", limit, \"are:\", palindromic_numbers)"
   ]
  },
  {
   "cell_type": "code",
   "execution_count": 48,
   "id": "7fbc8e9a",
   "metadata": {},
   "outputs": [
    {
     "name": "stdout",
     "output_type": "stream",
     "text": [
      "Flattened list: [10, 2, 33, 41, 5, 16, 27, 18]\n"
     ]
    }
   ],
   "source": [
    "\"\"\"QUESTION NO 25\"\"\"\n",
    "\"\"\"Write a program to flatten a nested list using list comprehension.\"\"\"\n",
    "\n",
    "# Example nested list\n",
    "nested_list = [[10, 2, 33], [41, 5], [16, 27, 18]]\n",
    "\n",
    "# Flatten the nested list using list comprehension\n",
    "flattened_list = [item for sublist in nested_list for item in sublist]\n",
    "\n",
    "# Print the flattened list\n",
    "print(\"Flattened list:\", flattened_list)"
   ]
  },
  {
   "cell_type": "code",
   "execution_count": 51,
   "id": "449d9032",
   "metadata": {},
   "outputs": [
    {
     "name": "stdout",
     "output_type": "stream",
     "text": [
      "Sum of even numbers: 56\n",
      "Sum of odd numbers: 49\n"
     ]
    }
   ],
   "source": [
    "\"\"\"QUESTION NO 26\"\"\"\n",
    "\"\"\"Develop a program that computes the sum of even and odd numbers in a list separately using list\n",
    "comprehension.\"\"\"\n",
    "# Given list of numbers\n",
    "numbers = [1, 2, 3, 4, 5, 6, 7, 8, 9, 10, 11, 12, 13, 14]\n",
    "\n",
    "# Use list comprehension to separate even and odd numbers\n",
    "even_numbs = [x for x in numbers if x % 2 == 0]\n",
    "odd_numbs = [x for x in numbers if x % 2 != 0]\n",
    "\n",
    "# Compute the sum of even and odd numbers separately using the built-in sum() function\n",
    "even_sum = sum(even_numbs)\n",
    "odd_sum = sum(odd_numbs)\n",
    "\n",
    "# Print the sums\n",
    "print(\"Sum of even numbers:\", even_sum)\n",
    "print(\"Sum of odd numbers:\", odd_sum)"
   ]
  },
  {
   "cell_type": "code",
   "execution_count": 58,
   "id": "01f4f754",
   "metadata": {},
   "outputs": [
    {
     "name": "stdout",
     "output_type": "stream",
     "text": [
      "Squares of odd numbers between 1 and 10: [1, 9, 25, 49, 81]\n"
     ]
    }
   ],
   "source": [
    "\"\"\"QUESTION NO 27\"\"\"\n",
    "\"\"\"Create a program that generates a list of squares of odd numbers between 1 and 10 using list\n",
    "comprehension.\"\"\"\n",
    "\n",
    "# Initialize an empty list to store the squares of odd numbers\n",
    "odd_squares = []\n",
    "\n",
    "# Use list comprehension to generate the list of squares of odd numbers\n",
    "odd_squares = [number**2 for number in range(1, 11) if number % 2 == 1]\n",
    "\n",
    "# Print the list of squares of odd numbers\n",
    "print(\"Squares of odd numbers between 1 and 10:\", odd_squares)"
   ]
  },
  {
   "cell_type": "code",
   "execution_count": 61,
   "id": "e11056a3",
   "metadata": {},
   "outputs": [
    {
     "name": "stdout",
     "output_type": "stream",
     "text": [
      "Combined Dictionary: {'name': 'Aaqib', 'age': 24, 'city': 'kashmir'}\n"
     ]
    }
   ],
   "source": [
    "\"\"\"QUESTION NO 28\"\"\"\n",
    "\"\"\"Write a program that combines two lists into a dictionary using list comprehension.\"\"\"\n",
    "\n",
    "# Example lists\n",
    "keys = [\"name\", \"age\", \"city\"]\n",
    "values = [\"Aaqib\", 24 , \"kashmir\"]\n",
    "\n",
    "# Initialize an empty dictionary\n",
    "comb_dict = {}\n",
    "\n",
    "# Use list comprehension to combine the two lists into a dictionary\n",
    "comb_dict = {keys[i]: values[i] for i in range(len(keys))}\n",
    "\n",
    "# Print the combined dictionary\n",
    "print(\"Combined Dictionary:\", comb_dict)"
   ]
  },
  {
   "cell_type": "code",
   "execution_count": 64,
   "id": "9f529480",
   "metadata": {},
   "outputs": [
    {
     "name": "stdout",
     "output_type": "stream",
     "text": [
      "Enter a string: aaqib majeed bhat\n",
      "Vowels in the string: ['a', 'a', 'i', 'a', 'e', 'e', 'a']\n"
     ]
    }
   ],
   "source": [
    "\"\"\"QUESTION NO 29\"\"\"\n",
    "\"\"\"Develop a program that extracts the vowels from a string and stores them in a list using list comprehension.\"\"\"\n",
    "\n",
    "# Input string\n",
    "string = input(\"Enter a string: \")\n",
    "\n",
    "# Convert the input string to lowercase /it is optional\n",
    "string = string.lower()\n",
    "\n",
    "# Use list comprehension to extract vowels and store them in a list\n",
    "vowels = [char for char in string if char in \"aeiou\"]\n",
    "\n",
    "# Print the list of vowels\n",
    "print(\"Vowels in the string:\", vowels)"
   ]
  },
  {
   "cell_type": "code",
   "execution_count": 67,
   "id": "95c7e5bd",
   "metadata": {},
   "outputs": [
    {
     "name": "stdout",
     "output_type": "stream",
     "text": [
      "Modified list: ['123', '786', '456']\n"
     ]
    }
   ],
   "source": [
    "\"\"\"QUESTION NO 30\"\"\"\n",
    "\"\"\"Create a program that removes all non-numeric characters from a list of strings using list comprehension.\"\"\"\n",
    "\n",
    "# Original list of strings\n",
    "string = [\"aaqib123\", \"786saba\", \"456!@#\"]\n",
    "\n",
    "# Use list comprehension to remove non-numeric characters from each string\n",
    "num_strings = [''.join(char for char in string if char.isdigit()) for string in string]\n",
    "\n",
    "# Print the list of modified strings with only numeric characters\n",
    "print(\"Modified list:\", num_strings)"
   ]
  },
  {
   "cell_type": "markdown",
   "id": "bd531e36",
   "metadata": {},
   "source": [
    "CHALLENGE LEVEL:"
   ]
  },
  {
   "cell_type": "code",
   "execution_count": 71,
   "id": "cb6d02d4",
   "metadata": {},
   "outputs": [
    {
     "name": "stdout",
     "output_type": "stream",
     "text": [
      "Enter a limit to generate prime numbers up to: 45\n",
      "Prime numbers up to 45 are: [2, 3, 5, 7, 11, 13, 17, 19, 23, 29, 31, 37, 41, 43]\n"
     ]
    }
   ],
   "source": [
    "\"\"\"QUESTION NO 31\"\"\"\n",
    "\"\"\"Write a program to generate a list of prime numbers using the Sieve of Eratosthenes algorithm and list\n",
    "comprehension.\"\"\"\n",
    "# Enter the limit for generating prime numbers\n",
    "limit = int(input(\"Enter a limit to generate prime numbers up to: \"))\n",
    "\n",
    "# Create a list of boolean values to represent prime numbers (True initially)\n",
    "sieve = [True] * (limit + 1)\n",
    "sieve[0] = sieve[1] = False\n",
    "\n",
    "# Mark non-prime numbers using the Sieve of Eratosthenes algorithm\n",
    "for current in range(2, int(limit ** 0.5) + 1):\n",
    "    if sieve[current]:\n",
    "        sieve[current * current::current] = [False] * len(sieve[current * current::current])\n",
    "\n",
    "# Use list comprehension to generate a list of prime numbers\n",
    "prime_numbers = [num for num, is_prime in enumerate(sieve) if is_prime]\n",
    "\n",
    "# Print the list of prime numbers up to the specified limit\n",
    "print(\"Prime numbers up to\", limit, \"are:\", prime_numbers)"
   ]
  },
  {
   "cell_type": "code",
   "execution_count": 74,
   "id": "b130a429",
   "metadata": {},
   "outputs": [
    {
     "name": "stdout",
     "output_type": "stream",
     "text": [
      "Enter a limit to generate Pythagorean triplets up to: 20\n",
      "Pythagorean triplets up to 20 are: [(3, 4, 5), (5, 12, 13), (6, 8, 10), (8, 15, 17), (9, 12, 15), (12, 16, 20)]\n"
     ]
    }
   ],
   "source": [
    "\"\"\"QUESTION NO 32\"\"\"\n",
    "\"\"\"Create a program that generates a list of all Pythagorean triplets up to a specified limit using list\n",
    "comprehension.\"\"\"\n",
    "\n",
    "#Enter the limit for generating Pythagorean triplets\n",
    "limit = int(input(\"Enter a limit to generate Pythagorean triplets up to: \"))\n",
    "\n",
    "# Initialize an empty list to store the Pythagorean triplets\n",
    "pythagorean_triplets = []\n",
    "\n",
    "# Use list comprehension to generate Pythagorean triplets\n",
    "pythagorean_triplets = [(a, b, c)\n",
    "                        for a in range(1, limit + 1)\n",
    "                        for b in range(a, limit + 1)\n",
    "                        for c in range(b, limit + 1)\n",
    "                        if a**2 + b**2 == c**2]\n",
    "\n",
    "# Print the list of Pythagorean triplets\n",
    "print(\"Pythagorean triplets up to\", limit, \"are:\", pythagorean_triplets)"
   ]
  },
  {
   "cell_type": "code",
   "execution_count": 89,
   "id": "6cd5c848",
   "metadata": {},
   "outputs": [
    {
     "name": "stdout",
     "output_type": "stream",
     "text": [
      "All possible combinations of list1 and list2:\n",
      "(1, 'a')\n",
      "(1, 'b')\n",
      "(1, 's')\n",
      "(1, 'c')\n",
      "(1, 'd')\n",
      "(1, 'f')\n",
      "(2, 'a')\n",
      "(2, 'b')\n",
      "(2, 's')\n",
      "(2, 'c')\n",
      "(2, 'd')\n",
      "(2, 'f')\n",
      "(3, 'a')\n",
      "(3, 'b')\n",
      "(3, 's')\n",
      "(3, 'c')\n",
      "(3, 'd')\n",
      "(3, 'f')\n",
      "(4, 'a')\n",
      "(4, 'b')\n",
      "(4, 's')\n",
      "(4, 'c')\n",
      "(4, 'd')\n",
      "(4, 'f')\n",
      "(7, 'a')\n",
      "(7, 'b')\n",
      "(7, 's')\n",
      "(7, 'c')\n",
      "(7, 'd')\n",
      "(7, 'f')\n",
      "(8, 'a')\n",
      "(8, 'b')\n",
      "(8, 's')\n",
      "(8, 'c')\n",
      "(8, 'd')\n",
      "(8, 'f')\n"
     ]
    }
   ],
   "source": [
    "\"\"\"QUESTION NO 33\"\"\"\n",
    "\"\"\"Develop a program that generates a list of all possible combinations of two lists using list comprehension.\"\"\"\n",
    "\n",
    "# Example lists\n",
    "list1 = [1, 2, 3, 4, 7, 8]\n",
    "list2 = ['a', 'b', 's', 'c', 'd', 'f']\n",
    "\n",
    "# Generate all possible combinations using list comprehension\n",
    "#combinations = [(x, y) for x in list1 for y in list2]\n",
    "print(\"All possible combinations of list1 and list2:\")\n",
    "for x in list1:\n",
    "    for y in list2:\n",
    "        print((x,y))\n",
    "\n",
    "# Print the list of combinations\n",
    "#print(\"All possible combinations of list1 and list2:\")\n",
    "#for combination in combinations:\n",
    "    #print(combination)\n"
   ]
  },
  {
   "cell_type": "code",
   "execution_count": 92,
   "id": "3aaeb8d8",
   "metadata": {},
   "outputs": [
    {
     "name": "stdout",
     "output_type": "stream",
     "text": [
      "Mean: 3.375\n",
      "Median: 3.5\n",
      "Mode: [5]\n"
     ]
    }
   ],
   "source": [
    "\"\"\"QUESTION NO 34 \"\"\"\n",
    "\"\"\"Write a program that calculates the mean, median, and mode of a list of numbers using list\n",
    "comprehension.\"\"\"\n",
    "\n",
    "# Example list of numbers\n",
    "numbs = [1, 2, 2, 3, 4, 5, 5, 5]\n",
    "\n",
    "# Calculate the mean (average) using list comprehension\n",
    "mean = sum(numbers) / len(numbs)\n",
    "\n",
    "# Calculate the median using list comprehension\n",
    "sorted_numbers = sorted(numbs)\n",
    "n = len(sorted_numbers)\n",
    "median = (sorted_numbers[n // 2] + sorted_numbers[(n - 1) // 2]) / 2 if n % 2 == 0 else sorted_numbers[n // 2]\n",
    "\n",
    "# Calculate the mode without using Counter\n",
    "def find_mode(numbs):\n",
    "    mode_count = {}\n",
    "    for num in numbs:\n",
    "        if num in mode_count:\n",
    "            mode_count[num] += 1\n",
    "        else:\n",
    "            mode_count[num] = 1\n",
    "\n",
    "    max_count = max(mode_count.values())\n",
    "    mode = [num for num, count in mode_count.items() if count == max_count]\n",
    "    return mode\n",
    "\n",
    "mode = find_mode(numbs)\n",
    "\n",
    "# Print the mean, median, and mode\n",
    "print(\"Mean:\", mean)\n",
    "print(\"Median:\", median)\n",
    "print(\"Mode:\", mode)\n"
   ]
  },
  {
   "cell_type": "code",
   "execution_count": 94,
   "id": "4a2901d1",
   "metadata": {},
   "outputs": [
    {
     "name": "stdout",
     "output_type": "stream",
     "text": [
      "Enter the number of rows for Pascal's triangle: 6\n",
      "[1]\n",
      "[1, 1]\n",
      "[1, 2, 1]\n",
      "[1, 3, 3, 1]\n",
      "[1, 4, 6, 4, 1]\n",
      "[1, 5, 10, 10, 5, 1]\n"
     ]
    }
   ],
   "source": [
    "\"\"\"QUESTION NO 35\"\"\"\n",
    "\"\"\"Create a program that generates Pascal's triangle up to a specified number of rows using list\n",
    "comprehension.\"\"\"\n",
    "\n",
    "def generate_pascals_triangle(num_rows):\n",
    "    triangle = []\n",
    "    for i in range(num_rows):\n",
    "        if i == 0:\n",
    "            row = [1]\n",
    "        else:\n",
    "            prev_row = triangle[-1]\n",
    "            row = [1]\n",
    "            for j in range(1, i):\n",
    "                row.append(prev_row[j - 1] + prev_row[j])\n",
    "            row.append(1)\n",
    "        triangle.append(row)\n",
    "    return triangle\n",
    "\n",
    "# Specify the number of rows for Pascal's triangle\n",
    "num_rows = int(input(\"Enter the number of rows for Pascal's triangle: \"))\n",
    "\n",
    "# Generate and print Pascal's triangle\n",
    "pascals_triangle = generate_pascals_triangle(num_rows)\n",
    "for row in pascals_triangle:\n",
    "    print(row)\n"
   ]
  },
  {
   "cell_type": "code",
   "execution_count": 95,
   "id": "db5021e4",
   "metadata": {},
   "outputs": [
    {
     "name": "stdout",
     "output_type": "stream",
     "text": [
      "Factorial of 1 has a digit sum of 1\n",
      "Factorial of 2 has a digit sum of 2\n",
      "Factorial of 3 has a digit sum of 6\n",
      "Factorial of 4 has a digit sum of 6\n",
      "Factorial of 5 has a digit sum of 3\n"
     ]
    }
   ],
   "source": [
    "\"\"\"QUESTION NO 36\"\"\"\n",
    "\"\"\"Develop a program that calculates the sum of the digits of a factorial of numbers from 1 to 5 using list\n",
    "comprehension.\"\"\"\n",
    "\n",
    "# Function to calculate the factorial of a number\n",
    "def factorial(n):\n",
    "    if n == 0:\n",
    "        return 1\n",
    "    else:\n",
    "        return n * factorial(n - 1)\n",
    "\n",
    "# Calculate the sum of the digits of factorial for numbers from 1 to 5 using list comprehension\n",
    "sum_of_digit_sums = [sum(map(int, str(factorial(i)))) for i in range(1, 6)]\n",
    "\n",
    "# Print the results\n",
    "for n, digit_sum in enumerate(sum_of_digit_sums, start=1):\n",
    "    print(f\"Factorial of {n} has a digit sum of {digit_sum}\")"
   ]
  },
  {
   "cell_type": "code",
   "execution_count": 100,
   "id": "ba79b994",
   "metadata": {},
   "outputs": [
    {
     "name": "stdout",
     "output_type": "stream",
     "text": [
      "Enter a sentence where you want to fint longest word: my name is aaqib majeed bhat\n",
      "The longest word is: majeed\n"
     ]
    }
   ],
   "source": [
    "\"\"\"QUESTION NO 37\"\"\"\n",
    "\"\"\"Write a program that finds the longest word in a sentence using list comprehension.\"\"\"\n",
    "\n",
    "# Input sentence\n",
    "sentence = input(\"Enter a sentence where you want to fint longest word: \")\n",
    "\n",
    "# Split the sentence into words\n",
    "words = sentence.split()\n",
    "\n",
    "# Find the longest word(s) using list comprehension\n",
    "longest_length = max(len(word) for word in words)\n",
    "longest_words = [word for word in words if len(word) == longest_length]\n",
    "\n",
    "# Print the longest word(s)\n",
    "if longest_words:\n",
    "    if len(longest_words) > 1:\n",
    "        print(\"The longest words are:\", ', '.join(longest_words))\n",
    "    else:\n",
    "        print(\"The longest word is:\", longest_words[0])\n",
    "else:\n",
    "    print(\"No words found in the sentence.\")"
   ]
  },
  {
   "cell_type": "code",
   "execution_count": 6,
   "id": "7a390bce",
   "metadata": {},
   "outputs": [
    {
     "name": "stdout",
     "output_type": "stream",
     "text": [
      "Strings with more than three vowels:\n",
      "aeioudf\n",
      "distributions\n",
      "meaningless\n"
     ]
    }
   ],
   "source": [
    "\"\"\"QUESTION NO 38\"\"\"\n",
    "\"\"\"Create a program that filters a list of strings to include only those with more than three vowels using list\n",
    "comprehension.\"\"\"\n",
    "\n",
    "\n",
    "# Input list of strings\n",
    "string_list = [\"welcome\", \"to\", \"programming\", \"is\", \"fun\", \"aeioudf\", \"distributions\", \"meaningless\"]\n",
    "\n",
    "# Define a function to count vowels in a string\n",
    "def count_vowels(string):\n",
    "    vowels = \"AEIOUaeiou\"  # List of vowels in both uppercase and lowercase\n",
    "    return sum(1 for char in string if char in vowels)\n",
    "\n",
    "# Use list comprehension to filter strings with more than three vowels\n",
    "filtered_strings = [string for string in string_list if count_vowels(string) > 3]\n",
    "\n",
    "# Print the filtered strings\n",
    "print(\"Strings with more than three vowels:\")\n",
    "for string in filtered_strings:\n",
    "    print(string)"
   ]
  },
  {
   "cell_type": "code",
   "execution_count": 8,
   "id": "a730526e",
   "metadata": {},
   "outputs": [
    {
     "name": "stdout",
     "output_type": "stream",
     "text": [
      "Total Sum of Digits from 1 to 1000: 13501\n"
     ]
    }
   ],
   "source": [
    "\"\"\"QUESTION NO 39\"\"\"\n",
    "\"\"\"Develop a program that calculates the sum of the digits of numbers from 1 to 1000 using list\n",
    "comprehension.\"\"\"\n",
    "\n",
    "# Use list comprehension to generate numbers from 1 to 1000\n",
    "numbs = list(range(1, 1001))\n",
    "\n",
    "# Calculate the sum of the digits for each number using nested list comprehension\n",
    "digit_sums = [sum(int(digit) for digit in str(number)) for number in numbs]\n",
    "\n",
    "# Calculate the total sum of digits\n",
    "sum_of_digits = sum(digit_sums)\n",
    "\n",
    "# Print the total sum of digits\n",
    "print(\"Total Sum of Digits from 1 to 1000:\", sum_of_digits)"
   ]
  },
  {
   "cell_type": "code",
   "execution_count": 10,
   "id": "98bb8503",
   "metadata": {},
   "outputs": [
    {
     "name": "stdout",
     "output_type": "stream",
     "text": [
      "Prime Palindromic Numbers: [2, 3, 5, 7, 11]\n"
     ]
    }
   ],
   "source": [
    "\"\"\"QUESTION NO 40\"\"\"\n",
    "\"\"\"Write a program that generates a list of prime palindromic numbers using list comprehension.\"\"\"\n",
    "\n",
    "# Function to check if a number is prime\n",
    "def is_prime(num):\n",
    "    if num <= 1:\n",
    "        return False\n",
    "    if num == 2:\n",
    "        return True\n",
    "    if num % 2 == 0:\n",
    "        return False\n",
    "    for i in range(3, int(num ** 0.5) + 1, 2):\n",
    "        if num % i == 0:\n",
    "            return False\n",
    "    return True\n",
    "\n",
    "# Use list comprehension to generate a list of prime palindromic numbers\n",
    "prime_palindromic_numbers = [num for num in range(2, 100) if is_prime(num) and str(num) == str(num)[::-1]]\n",
    "\n",
    "# Print the list of prime palindromic numbers\n",
    "print(\"Prime Palindromic Numbers:\", prime_palindromic_numbers)"
   ]
  },
  {
   "cell_type": "code",
   "execution_count": 11,
   "id": "75e9d5fe",
   "metadata": {},
   "outputs": [
    {
     "name": "stdout",
     "output_type": "stream",
     "text": [
      "Enter the limit for prime palindromic numbers: 100\n",
      "Prime Palindromic Numbers up to 100 are: [2, 3, 5, 7, 11]\n"
     ]
    }
   ],
   "source": [
    "# Function to check if a number is prime\n",
    "def is_prime(num):\n",
    "    if num <= 1:\n",
    "        return False\n",
    "    if num == 2:\n",
    "        return True\n",
    "    if num % 2 == 0:\n",
    "        return False\n",
    "    for i in range(3, int(num ** 0.5) + 1, 2):\n",
    "        if num % i == 0:\n",
    "            return False\n",
    "    return True\n",
    "\n",
    "# Input: Get the limit from the user\n",
    "limit = int(input(\"Enter the limit for prime palindromic numbers: \"))\n",
    "\n",
    "# Use list comprehension to generate a list of prime palindromic numbers up to the limit\n",
    "prime_palindromic_numbers = [num for num in range(2, limit + 1) if is_prime(num) and str(num) == str(num)[::-1]]\n",
    "\n",
    "# Print the list of prime palindromic numbers\n",
    "print(\"Prime Palindromic Numbers up to\", limit, \"are:\", prime_palindromic_numbers)\n"
   ]
  },
  {
   "cell_type": "code",
   "execution_count": null,
   "id": "ac10cf66",
   "metadata": {},
   "outputs": [],
   "source": []
  }
 ],
 "metadata": {
  "kernelspec": {
   "display_name": "Python 3.10 (tensorflow)",
   "language": "python",
   "name": "tensorflow"
  },
  "language_info": {
   "codemirror_mode": {
    "name": "ipython",
    "version": 3
   },
   "file_extension": ".py",
   "mimetype": "text/x-python",
   "name": "python",
   "nbconvert_exporter": "python",
   "pygments_lexer": "ipython3",
   "version": "3.10.9"
  }
 },
 "nbformat": 4,
 "nbformat_minor": 5
}
